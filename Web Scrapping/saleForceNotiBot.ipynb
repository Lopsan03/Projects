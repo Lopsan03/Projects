{
 "cells": [
  {
   "cell_type": "code",
   "execution_count": 1,
   "metadata": {},
   "outputs": [],
   "source": [
    "from selenium import webdriver\n",
    "from selenium.webdriver.common.by import By\n",
    "import pandas as pd\n",
    "import time\n",
    "from selenium.webdriver.support.ui import WebDriverWait\n",
    "from selenium.webdriver.support import expected_conditions as EC\n",
    "from selenium.common.exceptions import TimeoutException\n",
    "import re"
   ]
  },
  {
   "cell_type": "code",
   "execution_count": 6,
   "metadata": {},
   "outputs": [],
   "source": [
    "# Set up Selenium WebDriver (you might need to download the appropriate driver for your browser)\n",
    "driver = webdriver.Chrome()  # or 'webdriver.Firefox()' if using Firefox\n",
    "\n",
    "# Define the URL of the login page\n",
    "url = \"https://login.microsoftonline.com\"\n",
    "\n",
    "# Go to the login page\n",
    "driver.get(url)"
   ]
  },
  {
   "cell_type": "code",
   "execution_count": 7,
   "metadata": {},
   "outputs": [],
   "source": [
    "# Wait for the email input to be visible and enter the email\n",
    "email_input = WebDriverWait(driver, 10).until(\n",
    "    EC.visibility_of_element_located((By.ID, \"i0116\"))\n",
    ")\n",
    "email_input.send_keys(\"EMAIL/USERNAME\")\n",
    "\n",
    "# Click the 'Next' button after entering email\n",
    "driver.find_element(By.ID, \"idSIButton9\").click()\n",
    "\n",
    "# Wait for the password input to be visible and enter the password\n",
    "password_input = WebDriverWait(driver, 10).until(\n",
    "    EC.visibility_of_element_located((By.ID, \"i0118\"))\n",
    ")\n",
    "password_input.send_keys('PASSWORD')\n",
    "\n",
    "# Click the 'Sign in' button after entering the password\n",
    "driver.find_element(By.ID, \"idSIButton9\").click()\n",
    "\n",
    "# Handle Multi-Factor Authentication (MFA)\n",
    "# Wait for the MFA options to be visible\n",
    "mfa_option = WebDriverWait(driver, 10).until(\n",
    "    EC.visibility_of_element_located((By.XPATH, \"//div[@data-value='PhoneAppNotification']\"))\n",
    ")\n",
    "\n",
    "# Choose MFA option (example: approve via Microsoft Authenticator)\n",
    "mfa_option.click()\n",
    "\n",
    "# The rest of the code will depend on how your MFA is set up.\n",
    "# You might need to manually approve the notification on your mobile device.\n",
    "time.sleep(15)  # Adjust this sleep time as necessary to allow for MFA approval\n",
    "\n",
    "# After successful login, you can proceed to your target page\n",
    "driver.get(\"https://teletracnavman.lightning.force.com/lightning/o/Case/list?filterName=A_My_Open_Cases36\")"
   ]
  },
  {
   "cell_type": "code",
   "execution_count": null,
   "metadata": {},
   "outputs": [],
   "source": [
    "# Function to get the current number of cases\n",
    "def get_current_case_count():\n",
    "    try:\n",
    "        # Locate the elements that contain the case numbers\n",
    "        case_elements = driver.find_elements(By.XPATH, '//tbody/tr/th//a[@data-special-link=\"true\"]')\n",
    "        return len(case_elements)\n",
    "    except Exception as e:\n",
    "        print(f\"Error fetching case count: {e}\")\n",
    "        return None\n",
    "\n",
    "# Get the initial case count\n",
    "initial_case_count = get_current_case_count()\n",
    "print(f\"Initial number of cases: {initial_case_count}\")\n",
    "\n",
    "while True:\n",
    "    # Wait for 2 minutes\n",
    "    time.sleep(120)\n",
    "    \n",
    "    # Refresh the page\n",
    "    driver.refresh()\n",
    "    \n",
    "    # Get the new case count\n",
    "    new_case_count = get_current_case_count()\n",
    "    print(f\"Current number of cases: {new_case_count}\")\n",
    "    \n",
    "    # Check if the number of cases has increased\n",
    "    if new_case_count > initial_case_count:\n",
    "        print(f\"New cases detected! Current number of cases: {new_case_count}\")\n",
    "        initial_case_count = new_case_count  # Update the case count\n",
    "    else:\n",
    "        print(\"No new cases detected.\")\n",
    "\n",
    "# Don't forget to close the driver when done\n",
    "driver.quit()"
   ]
  }
 ],
 "metadata": {
  "kernelspec": {
   "display_name": "Python 3",
   "language": "python",
   "name": "python3"
  },
  "language_info": {
   "codemirror_mode": {
    "name": "ipython",
    "version": 3
   },
   "file_extension": ".py",
   "mimetype": "text/x-python",
   "name": "python",
   "nbconvert_exporter": "python",
   "pygments_lexer": "ipython3",
   "version": "3.10.7"
  }
 },
 "nbformat": 4,
 "nbformat_minor": 2
}
