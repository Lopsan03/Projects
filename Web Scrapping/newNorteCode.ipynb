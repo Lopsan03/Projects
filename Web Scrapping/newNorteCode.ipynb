{
 "cells": [
  {
   "cell_type": "code",
   "execution_count": 26,
   "metadata": {},
   "outputs": [
    {
     "name": "stdout",
     "output_type": "stream",
     "text": [
      "Defaulting to user installation because normal site-packages is not writeable\n",
      "Requirement already satisfied: webdriver-manager in c:\\users\\games\\appdata\\roaming\\python\\python310\\site-packages (4.0.2)\n",
      "Requirement already satisfied: requests in c:\\users\\games\\appdata\\roaming\\python\\python310\\site-packages (from webdriver-manager) (2.32.3)\n",
      "Requirement already satisfied: python-dotenv in c:\\users\\games\\appdata\\roaming\\python\\python310\\site-packages (from webdriver-manager) (1.0.1)\n",
      "Requirement already satisfied: packaging in c:\\users\\games\\appdata\\roaming\\python\\python310\\site-packages (from webdriver-manager) (21.3)\n",
      "Requirement already satisfied: pyparsing!=3.0.5,>=2.0.2 in c:\\users\\games\\appdata\\roaming\\python\\python310\\site-packages (from packaging->webdriver-manager) (3.0.9)\n",
      "Requirement already satisfied: charset-normalizer<4,>=2 in c:\\users\\games\\appdata\\roaming\\python\\python310\\site-packages (from requests->webdriver-manager) (3.1.0)\n",
      "Requirement already satisfied: idna<4,>=2.5 in c:\\users\\games\\appdata\\roaming\\python\\python310\\site-packages (from requests->webdriver-manager) (3.4)\n",
      "Requirement already satisfied: urllib3<3,>=1.21.1 in c:\\users\\games\\appdata\\roaming\\python\\python310\\site-packages (from requests->webdriver-manager) (2.0.2)\n",
      "Requirement already satisfied: certifi>=2017.4.17 in c:\\users\\games\\appdata\\roaming\\python\\python310\\site-packages (from requests->webdriver-manager) (2023.5.7)\n",
      "Note: you may need to restart the kernel to use updated packages.\n"
     ]
    },
    {
     "name": "stderr",
     "output_type": "stream",
     "text": [
      "\n",
      "[notice] A new release of pip is available: 24.0 -> 24.2\n",
      "[notice] To update, run: python.exe -m pip install --upgrade pip\n"
     ]
    }
   ],
   "source": [
    "%pip install webdriver-manager\n"
   ]
  },
  {
   "cell_type": "code",
   "execution_count": 27,
   "metadata": {},
   "outputs": [],
   "source": [
    "from selenium import webdriver\n",
    "from selenium.webdriver.common.by import By\n",
    "from selenium.webdriver.support.ui import WebDriverWait\n",
    "from selenium.webdriver.support import expected_conditions as EC\n",
    "from selenium.webdriver.common.keys import Keys\n",
    "from selenium.webdriver.common.action_chains import ActionChains\n",
    "from selenium.webdriver.chrome.service import Service\n",
    "from webdriver_manager.chrome import ChromeDriverManager\n",
    "import time"
   ]
  },
  {
   "cell_type": "code",
   "execution_count": 28,
   "metadata": {},
   "outputs": [],
   "source": [
    "# Set up the Chrome WebDriver using webdriver-manager\n",
    "options = webdriver.ChromeOptions()\n",
    "options.add_argument('--start-maximized')\n",
    "\n",
    "driver = webdriver.Chrome(service=Service(ChromeDriverManager().install()), options=options)\n",
    "driver.get(\"https://www.avisosdeocasion.com/Portada/BienesRaices\")\n",
    "\n",
    "# Wait for the page to load\n",
    "wait = WebDriverWait(driver, 10)"
   ]
  },
  {
   "cell_type": "code",
   "execution_count": 29,
   "metadata": {},
   "outputs": [
    {
     "ename": "ElementClickInterceptedException",
     "evalue": "Message: element click intercepted: Element <input type=\"checkbox\" id=\"FConFoto\" onchange=\"JavaScript:ActualizaCounter(0)\"> is not clickable at point (184, 666). Other element would receive the click: <div class=\"contenedor-boton contendor-filtro\" onclick=\"JavaScript:btnBuscar(19, 1, 1, &quot;El Norte&quot;, 500, &quot;0&quot;)\">...</div>\n  (Session info: chrome=129.0.6668.71)\nStacktrace:\n\tGetHandleVerifier [0x00706AB3+25587]\n\t(No symbol) [0x00699C54]\n\t(No symbol) [0x00592113]\n\t(No symbol) [0x005DCEB7]\n\t(No symbol) [0x005DB2B9]\n\t(No symbol) [0x005D91AB]\n\t(No symbol) [0x005D8798]\n\t(No symbol) [0x005CD58D]\n\t(No symbol) [0x005FAB9C]\n\t(No symbol) [0x005CD044]\n\t(No symbol) [0x005FAE34]\n\t(No symbol) [0x00615370]\n\t(No symbol) [0x005FA936]\n\t(No symbol) [0x005CBA73]\n\t(No symbol) [0x005CC4CD]\n\tGetHandleVerifier [0x009E4C63+3032483]\n\tGetHandleVerifier [0x00A36B99+3368153]\n\tGetHandleVerifier [0x00798F62+624802]\n\tGetHandleVerifier [0x007A07DC+655644]\n\t(No symbol) [0x006A260D]\n\t(No symbol) [0x0069F6D8]\n\t(No symbol) [0x0069F875]\n\t(No symbol) [0x00691CA6]\n\tBaseThreadInitThunk [0x75E97BA9+25]\n\tRtlInitializeExceptionChain [0x7705C11B+107]\n\tRtlClearBits [0x7705C09F+191]\n",
     "output_type": "error",
     "traceback": [
      "\u001b[1;31m---------------------------------------------------------------------------\u001b[0m",
      "\u001b[1;31mElementClickInterceptedException\u001b[0m          Traceback (most recent call last)",
      "Cell \u001b[1;32mIn[29], line 22\u001b[0m\n\u001b[0;32m     20\u001b[0m \u001b[38;5;66;03m# Select 'Sólo con foto'\u001b[39;00m\n\u001b[0;32m     21\u001b[0m solo_con_foto_checkbox \u001b[38;5;241m=\u001b[39m wait\u001b[38;5;241m.\u001b[39muntil(EC\u001b[38;5;241m.\u001b[39melement_to_be_clickable((By\u001b[38;5;241m.\u001b[39mID, \u001b[38;5;124m\"\u001b[39m\u001b[38;5;124mFConFoto\u001b[39m\u001b[38;5;124m\"\u001b[39m)))\n\u001b[1;32m---> 22\u001b[0m \u001b[43msolo_con_foto_checkbox\u001b[49m\u001b[38;5;241;43m.\u001b[39;49m\u001b[43mclick\u001b[49m\u001b[43m(\u001b[49m\u001b[43m)\u001b[49m\n\u001b[0;32m     24\u001b[0m \u001b[38;5;66;03m# Click on the 'Mostrar' button\u001b[39;00m\n\u001b[0;32m     25\u001b[0m mostrar_button \u001b[38;5;241m=\u001b[39m wait\u001b[38;5;241m.\u001b[39muntil(EC\u001b[38;5;241m.\u001b[39melement_to_be_clickable((By\u001b[38;5;241m.\u001b[39mID, \u001b[38;5;124m\"\u001b[39m\u001b[38;5;124mbtnFiltros\u001b[39m\u001b[38;5;124m\"\u001b[39m)))\n",
      "File \u001b[1;32m~\\AppData\\Roaming\\Python\\Python310\\site-packages\\selenium\\webdriver\\remote\\webelement.py:94\u001b[0m, in \u001b[0;36mWebElement.click\u001b[1;34m(self)\u001b[0m\n\u001b[0;32m     92\u001b[0m \u001b[38;5;28;01mdef\u001b[39;00m \u001b[38;5;21mclick\u001b[39m(\u001b[38;5;28mself\u001b[39m) \u001b[38;5;241m-\u001b[39m\u001b[38;5;241m>\u001b[39m \u001b[38;5;28;01mNone\u001b[39;00m:\n\u001b[0;32m     93\u001b[0m \u001b[38;5;250m    \u001b[39m\u001b[38;5;124;03m\"\"\"Clicks the element.\"\"\"\u001b[39;00m\n\u001b[1;32m---> 94\u001b[0m     \u001b[38;5;28;43mself\u001b[39;49m\u001b[38;5;241;43m.\u001b[39;49m\u001b[43m_execute\u001b[49m\u001b[43m(\u001b[49m\u001b[43mCommand\u001b[49m\u001b[38;5;241;43m.\u001b[39;49m\u001b[43mCLICK_ELEMENT\u001b[49m\u001b[43m)\u001b[49m\n",
      "File \u001b[1;32m~\\AppData\\Roaming\\Python\\Python310\\site-packages\\selenium\\webdriver\\remote\\webelement.py:395\u001b[0m, in \u001b[0;36mWebElement._execute\u001b[1;34m(self, command, params)\u001b[0m\n\u001b[0;32m    393\u001b[0m     params \u001b[38;5;241m=\u001b[39m {}\n\u001b[0;32m    394\u001b[0m params[\u001b[38;5;124m\"\u001b[39m\u001b[38;5;124mid\u001b[39m\u001b[38;5;124m\"\u001b[39m] \u001b[38;5;241m=\u001b[39m \u001b[38;5;28mself\u001b[39m\u001b[38;5;241m.\u001b[39m_id\n\u001b[1;32m--> 395\u001b[0m \u001b[38;5;28;01mreturn\u001b[39;00m \u001b[38;5;28;43mself\u001b[39;49m\u001b[38;5;241;43m.\u001b[39;49m\u001b[43m_parent\u001b[49m\u001b[38;5;241;43m.\u001b[39;49m\u001b[43mexecute\u001b[49m\u001b[43m(\u001b[49m\u001b[43mcommand\u001b[49m\u001b[43m,\u001b[49m\u001b[43m \u001b[49m\u001b[43mparams\u001b[49m\u001b[43m)\u001b[49m\n",
      "File \u001b[1;32m~\\AppData\\Roaming\\Python\\Python310\\site-packages\\selenium\\webdriver\\remote\\webdriver.py:354\u001b[0m, in \u001b[0;36mWebDriver.execute\u001b[1;34m(self, driver_command, params)\u001b[0m\n\u001b[0;32m    352\u001b[0m response \u001b[38;5;241m=\u001b[39m \u001b[38;5;28mself\u001b[39m\u001b[38;5;241m.\u001b[39mcommand_executor\u001b[38;5;241m.\u001b[39mexecute(driver_command, params)\n\u001b[0;32m    353\u001b[0m \u001b[38;5;28;01mif\u001b[39;00m response:\n\u001b[1;32m--> 354\u001b[0m     \u001b[38;5;28;43mself\u001b[39;49m\u001b[38;5;241;43m.\u001b[39;49m\u001b[43merror_handler\u001b[49m\u001b[38;5;241;43m.\u001b[39;49m\u001b[43mcheck_response\u001b[49m\u001b[43m(\u001b[49m\u001b[43mresponse\u001b[49m\u001b[43m)\u001b[49m\n\u001b[0;32m    355\u001b[0m     response[\u001b[38;5;124m\"\u001b[39m\u001b[38;5;124mvalue\u001b[39m\u001b[38;5;124m\"\u001b[39m] \u001b[38;5;241m=\u001b[39m \u001b[38;5;28mself\u001b[39m\u001b[38;5;241m.\u001b[39m_unwrap_value(response\u001b[38;5;241m.\u001b[39mget(\u001b[38;5;124m\"\u001b[39m\u001b[38;5;124mvalue\u001b[39m\u001b[38;5;124m\"\u001b[39m, \u001b[38;5;28;01mNone\u001b[39;00m))\n\u001b[0;32m    356\u001b[0m     \u001b[38;5;28;01mreturn\u001b[39;00m response\n",
      "File \u001b[1;32m~\\AppData\\Roaming\\Python\\Python310\\site-packages\\selenium\\webdriver\\remote\\errorhandler.py:229\u001b[0m, in \u001b[0;36mErrorHandler.check_response\u001b[1;34m(self, response)\u001b[0m\n\u001b[0;32m    227\u001b[0m         alert_text \u001b[38;5;241m=\u001b[39m value[\u001b[38;5;124m\"\u001b[39m\u001b[38;5;124malert\u001b[39m\u001b[38;5;124m\"\u001b[39m]\u001b[38;5;241m.\u001b[39mget(\u001b[38;5;124m\"\u001b[39m\u001b[38;5;124mtext\u001b[39m\u001b[38;5;124m\"\u001b[39m)\n\u001b[0;32m    228\u001b[0m     \u001b[38;5;28;01mraise\u001b[39;00m exception_class(message, screen, stacktrace, alert_text)  \u001b[38;5;66;03m# type: ignore[call-arg]  # mypy is not smart enough here\u001b[39;00m\n\u001b[1;32m--> 229\u001b[0m \u001b[38;5;28;01mraise\u001b[39;00m exception_class(message, screen, stacktrace)\n",
      "\u001b[1;31mElementClickInterceptedException\u001b[0m: Message: element click intercepted: Element <input type=\"checkbox\" id=\"FConFoto\" onchange=\"JavaScript:ActualizaCounter(0)\"> is not clickable at point (184, 666). Other element would receive the click: <div class=\"contenedor-boton contendor-filtro\" onclick=\"JavaScript:btnBuscar(19, 1, 1, &quot;El Norte&quot;, 500, &quot;0&quot;)\">...</div>\n  (Session info: chrome=129.0.6668.71)\nStacktrace:\n\tGetHandleVerifier [0x00706AB3+25587]\n\t(No symbol) [0x00699C54]\n\t(No symbol) [0x00592113]\n\t(No symbol) [0x005DCEB7]\n\t(No symbol) [0x005DB2B9]\n\t(No symbol) [0x005D91AB]\n\t(No symbol) [0x005D8798]\n\t(No symbol) [0x005CD58D]\n\t(No symbol) [0x005FAB9C]\n\t(No symbol) [0x005CD044]\n\t(No symbol) [0x005FAE34]\n\t(No symbol) [0x00615370]\n\t(No symbol) [0x005FA936]\n\t(No symbol) [0x005CBA73]\n\t(No symbol) [0x005CC4CD]\n\tGetHandleVerifier [0x009E4C63+3032483]\n\tGetHandleVerifier [0x00A36B99+3368153]\n\tGetHandleVerifier [0x00798F62+624802]\n\tGetHandleVerifier [0x007A07DC+655644]\n\t(No symbol) [0x006A260D]\n\t(No symbol) [0x0069F6D8]\n\t(No symbol) [0x0069F875]\n\t(No symbol) [0x00691CA6]\n\tBaseThreadInitThunk [0x75E97BA9+25]\n\tRtlInitializeExceptionChain [0x7705C11B+107]\n\tRtlClearBits [0x7705C09F+191]\n"
     ]
    }
   ],
   "source": [
    "# Select 'Venta' under 'Transacción'\n",
    "venta_radio = wait.until(EC.element_to_be_clickable((By.ID, \"Venta\")))\n",
    "venta_radio.click()\n",
    "\n",
    "# Select 'Casas' under 'Inmueble'\n",
    "inmueble_select = wait.until(EC.element_to_be_clickable((By.ID, \"FNivel2\")))\n",
    "inmueble_select.send_keys(\"Casas\")\n",
    "inmueble_select.send_keys(Keys.RETURN)\n",
    "\n",
    "# Select 'Nuevo León' under 'Estado'\n",
    "estado_select = wait.until(EC.element_to_be_clickable((By.ID, \"FEstado\")))\n",
    "estado_select.send_keys(\"Nuevo León\")\n",
    "estado_select.send_keys(Keys.RETURN)\n",
    "\n",
    "# Select 'CARRETERA NACIONAL' under 'Zona'\n",
    "zona_select = wait.until(EC.element_to_be_clickable((By.ID, \"FZona\")))\n",
    "zona_select.send_keys(\"CARRETERA NACIONAL\")\n",
    "zona_select.send_keys(Keys.RETURN)\n",
    "\n",
    "# Select 'Sólo con foto'\n",
    "solo_con_foto_checkbox = wait.until(EC.element_to_be_clickable((By.ID, \"FConFoto\")))\n",
    "solo_con_foto_checkbox.click()\n",
    "\n",
    "# Click on the 'Mostrar' button\n",
    "mostrar_button = wait.until(EC.element_to_be_clickable((By.ID, \"btnFiltros\")))\n",
    "mostrar_button.click()\n",
    "\n",
    "# Loop through each page and scrape data\n",
    "while True:\n",
    "    # Scrape the data from the current page\n",
    "    listings = driver.find_elements(By.CLASS_NAME, \"listado-aviso\")  # Replace this with the actual class name or element\n",
    "\n",
    "    for listing in listings:\n",
    "        title = listing.find_element(By.CLASS_NAME, \"titulo\").text  # Replace with actual class name\n",
    "        price = listing.find_element(By.CLASS_NAME, \"precio\").text  # Replace with actual class name\n",
    "        print(f\"Title: {title}, Price: {price}\")\n",
    "\n",
    "    # Try to go to the next page\n",
    "    try:\n",
    "        next_button = wait.until(EC.element_to_be_clickable((By.CLASS_NAME, \"siguiente\")))\n",
    "        next_button.click()\n",
    "        time.sleep(2)  # Wait for the next page to load\n",
    "    except:\n",
    "        print(\"No more pages.\")\n",
    "        break\n",
    "\n",
    "# Close the browser\n",
    "driver.quit()"
   ]
  }
 ],
 "metadata": {
  "kernelspec": {
   "display_name": "Python 3",
   "language": "python",
   "name": "python3"
  },
  "language_info": {
   "codemirror_mode": {
    "name": "ipython",
    "version": 3
   },
   "file_extension": ".py",
   "mimetype": "text/x-python",
   "name": "python",
   "nbconvert_exporter": "python",
   "pygments_lexer": "ipython3",
   "version": "3.10.7"
  }
 },
 "nbformat": 4,
 "nbformat_minor": 2
}
